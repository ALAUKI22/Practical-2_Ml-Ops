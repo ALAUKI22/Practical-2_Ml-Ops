{
  "nbformat": 4,
  "nbformat_minor": 0,
  "metadata": {
    "colab": {
      "provenance": [],
      "mount_file_id": "1ebBU7wsEHa5wVLXxxLulWRfAfGB5wOZm",
      "authorship_tag": "ABX9TyMWp/2fQvGup3wgf5jwhzg2",
      "include_colab_link": true
    },
    "kernelspec": {
      "name": "python3",
      "display_name": "Python 3"
    },
    "language_info": {
      "name": "python"
    }
  },
  "cells": [
    {
      "cell_type": "markdown",
      "metadata": {
        "id": "view-in-github",
        "colab_type": "text"
      },
      "source": [
        "<a href=\"https://colab.research.google.com/github/ALAUKI22/Practical-2_Ml-Ops/blob/main/Practical_2_ml_ops.ipynb\" target=\"_parent\"><img src=\"https://colab.research.google.com/assets/colab-badge.svg\" alt=\"Open In Colab\"/></a>"
      ]
    },
    {
      "cell_type": "markdown",
      "source": [
        "##The aim of the practial is to get the hands-on experience of reproducing the machine learning operations at each stage."
      ],
      "metadata": {
        "id": "OeNGplCaBRtN"
      }
    },
    {
      "cell_type": "markdown",
      "source": [
        "1. Ensure that the numpy, scikit learn, and matplotlib libraries are available in your system. Create\n",
        "the requirements.txt file and make a note of the versions of these libraries."
      ],
      "metadata": {
        "id": "yDCeffxoBblc"
      }
    },
    {
      "cell_type": "code",
      "execution_count": null,
      "metadata": {
        "colab": {
          "base_uri": "https://localhost:8080/",
          "height": 35
        },
        "id": "6Nmd-LFCBKHV",
        "outputId": "aac704a9-cd94-438c-c74c-e923467538e5"
      },
      "outputs": [
        {
          "output_type": "execute_result",
          "data": {
            "text/plain": [
              "'1.23.5'"
            ],
            "application/vnd.google.colaboratory.intrinsic+json": {
              "type": "string"
            }
          },
          "metadata": {},
          "execution_count": 1
        }
      ],
      "source": [
        "import numpy as np\n",
        "np.__version__"
      ]
    },
    {
      "cell_type": "code",
      "source": [
        "import sklearn\n",
        "sklearn.__version__"
      ],
      "metadata": {
        "colab": {
          "base_uri": "https://localhost:8080/",
          "height": 35
        },
        "id": "pb35U4cDCj2N",
        "outputId": "ffebb590-fca7-4fd3-c455-c2e19c5465b9"
      },
      "execution_count": null,
      "outputs": [
        {
          "output_type": "execute_result",
          "data": {
            "text/plain": [
              "'1.2.2'"
            ],
            "application/vnd.google.colaboratory.intrinsic+json": {
              "type": "string"
            }
          },
          "metadata": {},
          "execution_count": 2
        }
      ]
    },
    {
      "cell_type": "code",
      "source": [
        "import matplotlib as plt\n",
        "plt.__version__"
      ],
      "metadata": {
        "colab": {
          "base_uri": "https://localhost:8080/",
          "height": 35
        },
        "id": "eXYl-6ICFPWA",
        "outputId": "65cb9de4-3f37-427f-af2a-5cf711d2791d"
      },
      "execution_count": null,
      "outputs": [
        {
          "output_type": "execute_result",
          "data": {
            "text/plain": [
              "'3.7.1'"
            ],
            "application/vnd.google.colaboratory.intrinsic+json": {
              "type": "string"
            }
          },
          "metadata": {},
          "execution_count": 3
        }
      ]
    },
    {
      "cell_type": "code",
      "source": [
        "import pandas as pd\n",
        "pd.__version__"
      ],
      "metadata": {
        "colab": {
          "base_uri": "https://localhost:8080/",
          "height": 35
        },
        "id": "E-jEyU3xAi5M",
        "outputId": "96b353bc-d004-4601-e71e-6f21933d0c13"
      },
      "execution_count": null,
      "outputs": [
        {
          "output_type": "execute_result",
          "data": {
            "text/plain": [
              "'1.5.3'"
            ],
            "application/vnd.google.colaboratory.intrinsic+json": {
              "type": "string"
            }
          },
          "metadata": {},
          "execution_count": 4
        }
      ]
    },
    {
      "cell_type": "markdown",
      "source": [
        "2. Write a python code to import the Sample.txt data. Further, apply the following processes on the\n",
        "imported data"
      ],
      "metadata": {
        "id": "g46OlqIHHluO"
      }
    },
    {
      "cell_type": "code",
      "source": [
        "data = pd.read_csv('/content/Housing.csv')\n",
        "print(data)"
      ],
      "metadata": {
        "colab": {
          "base_uri": "https://localhost:8080/"
        },
        "id": "COTmpSpOHk42",
        "outputId": "8b18356b-cd77-4931-b70b-8bd67e92bdb3"
      },
      "execution_count": null,
      "outputs": [
        {
          "output_type": "stream",
          "name": "stdout",
          "text": [
            "        price  area  bedrooms  bathrooms  stories mainroad guestroom basement  \\\n",
            "0    13300000  7420         4          2        3      yes        no       no   \n",
            "1    12250000  8960         4          4        4      yes        no       no   \n",
            "2    12250000  9960         3          2        2      yes        no      yes   \n",
            "3    12215000  7500         4          2        2      yes        no      yes   \n",
            "4    11410000  7420         4          1        2      yes       yes      yes   \n",
            "..        ...   ...       ...        ...      ...      ...       ...      ...   \n",
            "540   1820000  3000         2          1        1      yes        no      yes   \n",
            "541   1767150  2400         3          1        1       no        no       no   \n",
            "542   1750000  3620         2          1        1      yes        no       no   \n",
            "543   1750000  2910         3          1        1       no        no       no   \n",
            "544   1750000  3850         3          1        2      yes        no       no   \n",
            "\n",
            "    hotwaterheating airconditioning  parking prefarea furnishingstatus  \n",
            "0                no             yes        2      yes        furnished  \n",
            "1                no             yes        3       no        furnished  \n",
            "2                no              no        2      yes   semi-furnished  \n",
            "3                no             yes        3      yes        furnished  \n",
            "4                no             yes        2       no        furnished  \n",
            "..              ...             ...      ...      ...              ...  \n",
            "540              no              no        2       no      unfurnished  \n",
            "541              no              no        0       no   semi-furnished  \n",
            "542              no              no        0       no      unfurnished  \n",
            "543              no              no        0       no        furnished  \n",
            "544              no              no        0       no      unfurnished  \n",
            "\n",
            "[545 rows x 13 columns]\n"
          ]
        }
      ]
    },
    {
      "cell_type": "code",
      "source": [
        "x = data['area']\n",
        "y = data['price']"
      ],
      "metadata": {
        "id": "_QX-l6eVDNIL"
      },
      "execution_count": null,
      "outputs": []
    },
    {
      "cell_type": "code",
      "source": [
        "x.shape,y.shape"
      ],
      "metadata": {
        "colab": {
          "base_uri": "https://localhost:8080/"
        },
        "id": "w79GnaRPNhoD",
        "outputId": "ffc133e0-53a6-4068-902e-697c7639efb6"
      },
      "execution_count": null,
      "outputs": [
        {
          "output_type": "execute_result",
          "data": {
            "text/plain": [
              "((545,), (545,))"
            ]
          },
          "metadata": {},
          "execution_count": 8
        }
      ]
    },
    {
      "cell_type": "markdown",
      "source": [
        "##Splitting of training and testing data"
      ],
      "metadata": {
        "id": "l6GIecpRGxCq"
      }
    },
    {
      "cell_type": "code",
      "source": [
        "from sklearn.model_selection import train_test_split"
      ],
      "metadata": {
        "id": "5JqSq0KcECJ6"
      },
      "execution_count": null,
      "outputs": []
    },
    {
      "cell_type": "code",
      "source": [
        "RandomState = 42"
      ],
      "metadata": {
        "id": "n4N_p2WAECRC"
      },
      "execution_count": null,
      "outputs": []
    },
    {
      "cell_type": "code",
      "source": [
        "x_train,x_test,y_train,y_test = train_test_split(x,y,test_size = 0.2,random_state = RandomState)"
      ],
      "metadata": {
        "id": "6xrc9Py_ECXj"
      },
      "execution_count": null,
      "outputs": []
    },
    {
      "cell_type": "markdown",
      "source": [
        "##mount drive"
      ],
      "metadata": {
        "id": "KUmsVn59KkAb"
      }
    },
    {
      "cell_type": "code",
      "source": [
        "drivefolder = \"/content/drive/MyDrive/SEM 7/ML - Ops\"\n",
        "import os"
      ],
      "metadata": {
        "id": "Ux_twgmvKl4L"
      },
      "execution_count": null,
      "outputs": []
    },
    {
      "cell_type": "code",
      "source": [
        "os.path.join(drivefolder,\"x_train.npy\")"
      ],
      "metadata": {
        "colab": {
          "base_uri": "https://localhost:8080/",
          "height": 35
        },
        "id": "RY_wFE3hLny0",
        "outputId": "ed889fd1-0ff5-4e93-c340-afaffe5d29a6"
      },
      "execution_count": null,
      "outputs": [
        {
          "output_type": "execute_result",
          "data": {
            "text/plain": [
              "'/content/drive/MyDrive/SEM 7/ML - Ops/x_train.npy'"
            ],
            "application/vnd.google.colaboratory.intrinsic+json": {
              "type": "string"
            }
          },
          "metadata": {},
          "execution_count": 13
        }
      ]
    },
    {
      "cell_type": "code",
      "source": [
        "np.save(os.path.join(drivefolder,\"x_train.npy\"),x_train)\n",
        "np.save(os.path.join(drivefolder,\"x_test.npy\"),x_test)\n",
        "np.save(os.path.join(drivefolder,\"y_train.npy\"),y_train)\n",
        "np.save(os.path.join(drivefolder,\"y_test.npy\"),y_test)"
      ],
      "metadata": {
        "id": "epvdz-PYIRcy"
      },
      "execution_count": null,
      "outputs": []
    },
    {
      "cell_type": "markdown",
      "source": [
        "##Normalization"
      ],
      "metadata": {
        "id": "jzF3PNt_I07b"
      }
    },
    {
      "cell_type": "code",
      "source": [
        "from sklearn.preprocessing import StandardScaler\n"
      ],
      "metadata": {
        "id": "RP8Vyr5tECoq"
      },
      "execution_count": null,
      "outputs": []
    },
    {
      "cell_type": "code",
      "source": [
        "#converting pd series to numpy array\n",
        "x_train_reshape = np.asarray(x_train).reshape(-1,1)\n",
        "x_test_reshape = np.asarray(x_test).reshape(-1,1)"
      ],
      "metadata": {
        "id": "n1GU-e6HI3p6"
      },
      "execution_count": null,
      "outputs": []
    },
    {
      "cell_type": "code",
      "source": [
        "scaler = StandardScaler()\n",
        "scaler.fit(x_train_reshape)\n",
        "x_train_normalized = scaler.transform(x_train_reshape)\n",
        "x_test_normalized = scaler.transform(x_test_reshape)"
      ],
      "metadata": {
        "id": "ojNtbVkuI3sK"
      },
      "execution_count": null,
      "outputs": []
    },
    {
      "cell_type": "code",
      "source": [
        "#store the scaler object\n",
        "import pickle\n",
        "with open(os.path.join(drivefolder,\"scaler.pkl\"),'wb') as f:\n",
        "  pickle.dump(scaler,f)"
      ],
      "metadata": {
        "id": "-o9mJS2wNOEQ"
      },
      "execution_count": null,
      "outputs": []
    },
    {
      "cell_type": "markdown",
      "source": [
        "##Save the model"
      ],
      "metadata": {
        "id": "SfE9Ot-sG4-8"
      }
    },
    {
      "cell_type": "code",
      "source": [
        "#1. Open a new python file\n",
        "#2. Load the 'scaler.pkl'\n",
        "#3. Take 'x_test.npy' as input\n",
        "#4. Apply the 'scaler.transform' and comapre 'x_test_normalized' of new file with this file"
      ],
      "metadata": {
        "id": "ZTRnPl9mKlKX"
      },
      "execution_count": null,
      "outputs": []
    },
    {
      "cell_type": "code",
      "source": [
        "x_train_normalized = scaler.transform(x_train_reshape)\n",
        "x_train_normalized"
      ],
      "metadata": {
        "colab": {
          "base_uri": "https://localhost:8080/"
        },
        "id": "5l63Qj4bSJre",
        "outputId": "9ef01730-2cf9-4793-8f77-b2dba1c54364"
      },
      "execution_count": null,
      "outputs": [
        {
          "output_type": "execute_result",
          "data": {
            "text/plain": [
              "array([[ 3.84168192e-01],\n",
              "       [ 9.29180700e-01],\n",
              "       [-6.07754573e-01],\n",
              "       [-1.15549214e+00],\n",
              "       [-6.37730261e-01],\n",
              "       [-6.54671275e-02],\n",
              "       [-5.92312552e-01],\n",
              "       [-3.54914395e-02],\n",
              "       [-8.96611202e-01],\n",
              "       [ 3.93251733e-01],\n",
              "       [-9.23861828e-01],\n",
              "       [ 1.15626924e+00],\n",
              "       [ 8.38345282e-01],\n",
              "       [-7.19482137e-01],\n",
              "       [-9.78363078e-01],\n",
              "       [ 5.88547882e-01],\n",
              "       [-1.25086933e+00],\n",
              "       [ 6.62442286e-02],\n",
              "       [ 1.03091637e+00],\n",
              "       [ 3.15010667e+00],\n",
              "       [ 9.56431325e-01],\n",
              "       [-9.78363078e-01],\n",
              "       [ 2.08265196e-02],\n",
              "       [ 1.47419321e+00],\n",
              "       [ 6.22611164e-01],\n",
              "       [-6.83147970e-01],\n",
              "       [-6.89960626e-01],\n",
              "       [-5.24185988e-01],\n",
              "       [-2.51679734e-01],\n",
              "       [ 2.20664439e-01],\n",
              "       [-7.42190992e-01],\n",
              "       [-1.50702521e+00],\n",
              "       [-9.10236515e-01],\n",
              "       [ 2.38831523e-01],\n",
              "       [-1.36668449e+00],\n",
              "       [ 1.33794008e+00],\n",
              "       [-5.55978385e-01],\n",
              "       [ 5.74922569e-01],\n",
              "       [-4.65142967e-01],\n",
              "       [ 2.85489156e+00],\n",
              "       [ 2.04963558e+00],\n",
              "       [ 2.36438030e+00],\n",
              "       [ 3.66001108e-01],\n",
              "       [-1.03286433e+00],\n",
              "       [ 5.47671944e-01],\n",
              "       [-7.60358075e-01],\n",
              "       [ 1.33794008e+00],\n",
              "       [ 6.29423820e-01],\n",
              "       [-1.07510280e+00],\n",
              "       [ 6.02173195e-01],\n",
              "       [-7.05856824e-01],\n",
              "       [-8.94340317e-01],\n",
              "       [-3.37973381e-01],\n",
              "       [ 1.74669946e+00],\n",
              "       [-6.83147970e-01],\n",
              "       [ 9.11013616e-01],\n",
              "       [-7.13123658e-01],\n",
              "       [-3.97016403e-01],\n",
              "       [ 8.38345282e-01],\n",
              "       [ 2.02828926e+00],\n",
              "       [ 1.82209286e+00],\n",
              "       [-1.35987183e+00],\n",
              "       [ 4.06877046e-01],\n",
              "       [ 1.74669946e+00],\n",
              "       [ 7.53277704e-02],\n",
              "       [ 1.65586404e+00],\n",
              "       [ 1.51961092e+00],\n",
              "       [ 3.29666941e-01],\n",
              "       [ 3.65424324e+00],\n",
              "       [-2.92555672e-01],\n",
              "       [-4.90122707e-01],\n",
              "       [-7.46732762e-01],\n",
              "       [-1.04376458e+00],\n",
              "       [ 3.84168192e-01],\n",
              "       [-2.97097443e-01],\n",
              "       [ 6.56674446e-01],\n",
              "       [-7.46732762e-01],\n",
              "       [-2.69846818e-01],\n",
              "       [-7.60358075e-01],\n",
              "       [-1.25177769e+00],\n",
              "       [-7.51274533e-01],\n",
              "       [ 1.06543383e+00],\n",
              "       [ 7.92927573e-01],\n",
              "       [ 3.84168192e-01],\n",
              "       [ 4.11418817e-01],\n",
              "       [-7.05856824e-01],\n",
              "       [ 6.56674446e-01],\n",
              "       [-3.87932861e-01],\n",
              "       [-1.74469629e-01],\n",
              "       [-5.06018905e-01],\n",
              "       [ 1.06543383e+00],\n",
              "       [-9.27177529e-02],\n",
              "       [ 6.62442286e-02],\n",
              "       [ 3.84168192e-01],\n",
              "       [ 1.14991077e+00],\n",
              "       [-8.58460327e-01],\n",
              "       [ 6.56674446e-01],\n",
              "       [-5.01477134e-01],\n",
              "       [-6.87689741e-01],\n",
              "       [ 1.57079647e-01],\n",
              "       [-5.78687239e-01],\n",
              "       [ 3.51799011e+00],\n",
              "       [ 3.84168192e-01],\n",
              "       [ 5.01677451e+00],\n",
              "       [ 9.29180700e-01],\n",
              "       [ 1.03818320e+00],\n",
              "       [-8.69360577e-01],\n",
              "       [ 1.74669946e+00],\n",
              "       [-1.06147749e+00],\n",
              "       [-1.42677233e-01],\n",
              "       [ 5.74922569e-01],\n",
              "       [-1.36668449e+00],\n",
              "       [ 7.47509864e-01],\n",
              "       [-8.82985889e-01],\n",
              "       [ 1.11661938e-01],\n",
              "       [ 2.11004113e+00],\n",
              "       [-2.97097443e-01],\n",
              "       [-3.78849320e-01],\n",
              "       [-2.06262025e-01],\n",
              "       [ 1.36064894e+00],\n",
              "       [-4.69684738e-01],\n",
              "       [-7.60358075e-01],\n",
              "       [-4.78768279e-01],\n",
              "       [ 3.16041628e-01],\n",
              "       [-1.67656973e-01],\n",
              "       [-5.24185988e-01],\n",
              "       [ 6.83925071e-01],\n",
              "       [-7.73983388e-01],\n",
              "       [ 1.15626924e+00],\n",
              "       [-2.97097443e-01],\n",
              "       [ 3.84168192e-01],\n",
              "       [-4.06099945e-01],\n",
              "       [ 2.56998606e-01],\n",
              "       [-5.42353072e-01],\n",
              "       [-5.06018905e-01],\n",
              "       [-5.24185988e-01],\n",
              "       [-1.60844316e-01],\n",
              "       [-5.24185988e-01],\n",
              "       [ 6.63487102e-01],\n",
              "       [ 1.57079647e-01],\n",
              "       [-7.00088984e-02],\n",
              "       [-1.60844316e-01],\n",
              "       [ 1.11661938e-01],\n",
              "       [-2.97097443e-01],\n",
              "       [-7.51274533e-01],\n",
              "       [ 1.40606664e+00],\n",
              "       [-7.96692242e-01],\n",
              "       [-9.51112453e-01],\n",
              "       [-5.09652321e-01],\n",
              "       [ 5.43130173e-01],\n",
              "       [-7.69441617e-01],\n",
              "       [-5.06018905e-01],\n",
              "       [-1.51760775e-01],\n",
              "       [-1.21680605e+00],\n",
              "       [ 8.47428823e-01],\n",
              "       [-3.69765778e-01],\n",
              "       [-6.24104948e-01],\n",
              "       [ 3.53797390e+00],\n",
              "       [ 2.08265196e-02],\n",
              "       [-1.15549214e+00],\n",
              "       [-7.05856824e-01],\n",
              "       [-8.46651722e-01],\n",
              "       [-1.36668449e+00],\n",
              "       [ 3.77355535e-01],\n",
              "       [ 1.05725864e+00],\n",
              "       [ 5.47671944e-01],\n",
              "       [-7.42190992e-01],\n",
              "       [-6.92231512e-01],\n",
              "       [ 3.84168192e-01],\n",
              "       [ 1.46147625e+00],\n",
              "       [ 2.93332774e-01],\n",
              "       [-9.99709402e-01],\n",
              "       [-6.37730261e-01],\n",
              "       [-5.92312552e-01],\n",
              "       [-8.24081413e-03],\n",
              "       [-1.24510149e-01],\n",
              "       [-6.18654823e-01],\n",
              "       [ 3.84168192e-01],\n",
              "       [-1.19636808e+00],\n",
              "       [ 3.60550983e-01],\n",
              "       [-1.36668449e+00],\n",
              "       [ 2.42796510e+00],\n",
              "       [-5.30544468e-01],\n",
              "       [ 1.57079647e-01],\n",
              "       [ 1.40606664e+00],\n",
              "       [ 1.11661938e-01],\n",
              "       [ 9.83681950e-01],\n",
              "       [-1.11461621e+00],\n",
              "       [ 1.74669946e+00],\n",
              "       [-1.60844316e-01],\n",
              "       [-5.24185988e-01],\n",
              "       [-6.92231512e-01],\n",
              "       [ 5.65839028e-01],\n",
              "       [-1.59150215e+00],\n",
              "       [-3.37973381e-01],\n",
              "       [ 9.97307263e-01],\n",
              "       [ 4.99529172e-01],\n",
              "       [ 1.28343883e+00],\n",
              "       [-4.69684738e-01],\n",
              "       [-7.42190992e-01],\n",
              "       [-1.35260500e+00],\n",
              "       [ 1.32885654e+00],\n",
              "       [-7.45824408e-01],\n",
              "       [-5.24185988e-01],\n",
              "       [-7.73983388e-01],\n",
              "       [-3.78849320e-01],\n",
              "       [ 4.74426826e+00],\n",
              "       [ 9.07380199e-01],\n",
              "       [ 5.29959037e-01],\n",
              "       [-9.78363078e-01],\n",
              "       [ 8.38345282e-01],\n",
              "       [ 2.86397510e+00],\n",
              "       [-8.81759820e-02],\n",
              "       [-7.69441617e-01],\n",
              "       [-9.78363078e-01],\n",
              "       [-6.92231512e-01],\n",
              "       [ 1.11661938e-01],\n",
              "       [-1.15426607e-01],\n",
              "       [ 1.57079647e-01],\n",
              "       [-5.24185988e-01],\n",
              "       [-6.87689741e-01],\n",
              "       [-2.97097443e-01],\n",
              "       [-2.97097443e-01],\n",
              "       [-3.87932861e-01],\n",
              "       [-8.96611202e-01],\n",
              "       [-9.10236515e-01],\n",
              "       [-2.97097443e-01],\n",
              "       [-7.42190992e-01],\n",
              "       [-5.06018905e-01],\n",
              "       [-3.42515152e-01],\n",
              "       [-4.81039165e-01],\n",
              "       [-4.51517654e-01],\n",
              "       [-7.05856824e-01],\n",
              "       [ 3.06958086e-01],\n",
              "       [ 7.06633925e-01],\n",
              "       [-7.36423151e-02],\n",
              "       [ 1.11661938e-01],\n",
              "       [-1.06919850e+00],\n",
              "       [-5.06018905e-01],\n",
              "       [-6.40001146e-01],\n",
              "       [ 1.29252237e+00],\n",
              "       [ 6.29423820e-01],\n",
              "       [-6.87689741e-01],\n",
              "       [ 2.30987905e+00],\n",
              "       [-9.78363078e-01],\n",
              "       [-5.24185988e-01],\n",
              "       [-8.19401097e-01],\n",
              "       [ 6.11256737e-01],\n",
              "       [-8.14859326e-01],\n",
              "       [ 6.79383300e-01],\n",
              "       [-1.13732506e+00],\n",
              "       [-1.05330230e+00],\n",
              "       [ 5.74922569e-01],\n",
              "       [-1.83553171e-01],\n",
              "       [-7.05856824e-01],\n",
              "       [-1.60844316e-01],\n",
              "       [-8.96611202e-01],\n",
              "       [ 3.84168192e-01],\n",
              "       [ 6.29423820e-01],\n",
              "       [ 1.69219821e+00],\n",
              "       [-3.60682236e-01],\n",
              "       [ 1.40606664e+00],\n",
              "       [-6.87689741e-01],\n",
              "       [ 2.84126625e+00],\n",
              "       [ 3.29666941e-01],\n",
              "       [-9.10236515e-01],\n",
              "       [ 6.33965591e-01],\n",
              "       [ 8.38345282e-01],\n",
              "       [ 1.26981352e+00],\n",
              "       [ 1.57079647e-01],\n",
              "       [ 2.42796510e+00],\n",
              "       [-9.47024859e-01],\n",
              "       [-5.92312552e-01],\n",
              "       [-7.87608701e-01],\n",
              "       [-4.78768279e-01],\n",
              "       [ 5.31775746e-01],\n",
              "       [-5.96854323e-01],\n",
              "       [-6.37730261e-01],\n",
              "       [-7.05856824e-01],\n",
              "       [ 4.11418817e-01],\n",
              "       [ 8.76950334e-01],\n",
              "       [-9.23861828e-01],\n",
              "       [ 5.47671944e-01],\n",
              "       [-5.24185988e-01],\n",
              "       [-3.56140465e-01],\n",
              "       [ 2.93332774e-01],\n",
              "       [-5.28727759e-01],\n",
              "       [-1.35305918e+00],\n",
              "       [-7.60358075e-01],\n",
              "       [ 3.38750483e-01],\n",
              "       [-2.92555672e-01],\n",
              "       [-2.51679734e-01],\n",
              "       [ 1.02909966e+00],\n",
              "       [-5.24185988e-01],\n",
              "       [-7.05856824e-01],\n",
              "       [ 6.56674446e-01],\n",
              "       [ 7.20120693e-03],\n",
              "       [-3.42515152e-01],\n",
              "       [-7.22797838e-02],\n",
              "       [-6.78606199e-01],\n",
              "       [ 2.32305019e+00],\n",
              "       [ 6.56674446e-01],\n",
              "       [-1.09326988e+00],\n",
              "       [-4.51517654e-01],\n",
              "       [ 1.69219821e+00],\n",
              "       [ 7.53277704e-02],\n",
              "       [ 6.56674446e-01],\n",
              "       [-1.24510149e-01],\n",
              "       [-1.06343066e-01],\n",
              "       [ 6.02173195e-01],\n",
              "       [-2.88013902e-01],\n",
              "       [-1.01923902e+00],\n",
              "       [ 1.68992733e+00],\n",
              "       [-8.42109951e-01],\n",
              "       [ 1.11661938e-01],\n",
              "       [-9.04786390e-01],\n",
              "       [-1.30764147e+00],\n",
              "       [-5.18418148e-02],\n",
              "       [-7.51274533e-01],\n",
              "       [ 6.56674446e-01],\n",
              "       [-9.62012703e-01],\n",
              "       [-9.10236515e-01],\n",
              "       [-7.00088984e-02],\n",
              "       [ 4.93170693e-01],\n",
              "       [ 3.84168192e-01],\n",
              "       [ 1.57079647e-01],\n",
              "       [-5.37811301e-01],\n",
              "       [ 1.33794008e+00],\n",
              "       [-4.78768279e-01],\n",
              "       [-5.92312552e-01],\n",
              "       [ 2.73453463e+00],\n",
              "       [-4.88305998e-01],\n",
              "       [ 1.20168695e+00],\n",
              "       [ 7.92927573e-01],\n",
              "       [ 6.33965591e-01],\n",
              "       [-7.42190992e-01],\n",
              "       [ 4.29585901e-01],\n",
              "       [-9.78363078e-01],\n",
              "       [ 4.02335275e-01],\n",
              "       [-8.94340317e-01],\n",
              "       [ 5.47671944e-01],\n",
              "       [ 7.47509864e-01],\n",
              "       [-3.65224007e-01],\n",
              "       [-1.36668449e+00],\n",
              "       [-1.03740610e+00],\n",
              "       [-9.78363078e-01],\n",
              "       [-7.87608701e-01],\n",
              "       [-1.28493261e+00],\n",
              "       [-3.42515152e-01],\n",
              "       [-7.73983388e-01],\n",
              "       [-7.87608701e-01],\n",
              "       [ 1.54808761e-01],\n",
              "       [-6.96773283e-01],\n",
              "       [-2.97097443e-01],\n",
              "       [-7.87608701e-01],\n",
              "       [-5.69603697e-01],\n",
              "       [-7.73983388e-01],\n",
              "       [-4.81039165e-01],\n",
              "       [ 4.29585901e-01],\n",
              "       [ 3.84168192e-01],\n",
              "       [ 7.75668843e-01],\n",
              "       [ 1.97378801e+00],\n",
              "       [ 1.11085154e+00],\n",
              "       [-2.37146067e-01],\n",
              "       [ 5.47671944e-01],\n",
              "       [-2.97097443e-01],\n",
              "       [-1.88233487e-03],\n",
              "       [-2.51679734e-01],\n",
              "       [ 1.72853238e+00],\n",
              "       [-1.23724402e+00],\n",
              "       [-7.05856824e-01],\n",
              "       [ 1.03818320e+00],\n",
              "       [-8.81759820e-02],\n",
              "       [ 3.84168192e-01],\n",
              "       [ 5.20421319e-01],\n",
              "       [ 7.65676947e-01],\n",
              "       [-1.20545162e+00],\n",
              "       [-5.38719655e-01],\n",
              "       [-1.36668449e+00],\n",
              "       [-2.97097443e-01],\n",
              "       [-3.78849320e-01],\n",
              "       [-6.92231512e-01],\n",
              "       [ 7.24801009e-01],\n",
              "       [-8.96611202e-01],\n",
              "       [-6.87689741e-01],\n",
              "       [ 3.84168192e-01],\n",
              "       [-1.42572751e+00],\n",
              "       [-1.15426607e-01],\n",
              "       [-6.33188490e-01],\n",
              "       [-7.51274533e-01],\n",
              "       [ 2.02497356e-01],\n",
              "       [ 1.02455789e+00],\n",
              "       [-4.15183487e-01],\n",
              "       [-7.51274533e-01],\n",
              "       [ 1.20168695e+00],\n",
              "       [-2.97097443e-01],\n",
              "       [-9.82904849e-01],\n",
              "       [ 8.38345282e-01],\n",
              "       [-1.42677233e-01],\n",
              "       [-9.60195995e-01],\n",
              "       [-1.45524902e+00],\n",
              "       [-8.94340317e-01],\n",
              "       [-9.78363078e-01],\n",
              "       [-1.18274277e+00],\n",
              "       [-7.33107450e-01],\n",
              "       [-9.78363078e-01],\n",
              "       [-1.03286433e+00],\n",
              "       [ 1.14718570e+00],\n",
              "       [-3.64315653e-01],\n",
              "       [ 2.13729176e+00],\n",
              "       [ 9.08742731e-01],\n",
              "       [-6.69522657e-01],\n",
              "       [-7.51274533e-01],\n",
              "       [ 4.79545381e-01],\n",
              "       [-3.42515152e-01],\n",
              "       [ 2.51880051e+00],\n",
              "       [-6.87689741e-01],\n",
              "       [-1.45524902e+00],\n",
              "       [-1.14186683e+00],\n",
              "       [-4.87851821e-01],\n",
              "       [-5.03293842e-01],\n",
              "       [-1.60844316e-01],\n",
              "       [ 3.84168192e-01],\n",
              "       [-8.96611202e-01],\n",
              "       [-5.42353072e-01],\n",
              "       [-5.92312552e-01],\n",
              "       [-5.01477134e-01],\n",
              "       [-3.65224007e-01],\n",
              "       [-9.37487140e-01],\n",
              "       [ 9.43260189e-01],\n",
              "       [-3.78849320e-01],\n",
              "       [ 3.84168192e-01],\n",
              "       [ 1.34370792e-01],\n",
              "       [-2.97097443e-01],\n",
              "       [-5.06018905e-01],\n",
              "       [ 1.57079647e-01]])"
            ]
          },
          "metadata": {},
          "execution_count": 20
        }
      ]
    },
    {
      "cell_type": "code",
      "source": [
        "x_test_normalized = scaler.transform(x_test_reshape)\n",
        "x_test_normalized"
      ],
      "metadata": {
        "id": "2mqRX5n1NVUY",
        "colab": {
          "base_uri": "https://localhost:8080/"
        },
        "outputId": "8faa8230-9a5e-47a7-a24d-4e64cfbefe11"
      },
      "execution_count": null,
      "outputs": [
        {
          "output_type": "execute_result",
          "data": {
            "text/plain": [
              "array([[ 0.33875048],\n",
              "       [ 0.61125674],\n",
              "       [-0.5060189 ],\n",
              "       [-0.0700089 ],\n",
              "       [-0.54235307],\n",
              "       [ 0.7111757 ],\n",
              "       [ 1.52869446],\n",
              "       [-0.07455067],\n",
              "       [-0.86936058],\n",
              "       [-1.11461621],\n",
              "       [ 1.55594508],\n",
              "       [-0.55416168],\n",
              "       [-0.65135557],\n",
              "       [-0.93294537],\n",
              "       [-0.5378113 ],\n",
              "       [-0.69223151],\n",
              "       [-1.43254017],\n",
              "       [ 0.38416819],\n",
              "       [ 0.31604163],\n",
              "       [ 0.38416819],\n",
              "       [-0.06092536],\n",
              "       [ 0.75886429],\n",
              "       [-0.68360215],\n",
              "       [-0.61502141],\n",
              "       [ 1.40606664],\n",
              "       [ 2.18270947],\n",
              "       [-0.93748714],\n",
              "       [-0.97836308],\n",
              "       [ 3.65424324],\n",
              "       [-0.97836308],\n",
              "       [-0.52418599],\n",
              "       [-0.92386183],\n",
              "       [ 0.38416819],\n",
              "       [ 0.6634871 ],\n",
              "       [-0.17219874],\n",
              "       [-0.25167973],\n",
              "       [-0.23078759],\n",
              "       [-0.8966112 ],\n",
              "       [-0.76035808],\n",
              "       [-1.0751028 ],\n",
              "       [ 1.28343883],\n",
              "       [-0.69223151],\n",
              "       [ 0.57492257],\n",
              "       [-0.43335057],\n",
              "       [ 0.72480101],\n",
              "       [ 0.33193783],\n",
              "       [ 0.38416819],\n",
              "       [-0.23351265],\n",
              "       [ 1.31523123],\n",
              "       [-0.97836308],\n",
              "       [ 1.0540794 ],\n",
              "       [-0.97836308],\n",
              "       [ 1.18806164],\n",
              "       [-0.29709744],\n",
              "       [-0.68768974],\n",
              "       [-1.01923902],\n",
              "       [ 0.27062392],\n",
              "       [-1.25086933],\n",
              "       [ 0.58854788],\n",
              "       [-0.61502141],\n",
              "       [-0.8966112 ],\n",
              "       [-1.37122626],\n",
              "       [ 0.58400611],\n",
              "       [-0.08817598],\n",
              "       [ 0.09349485],\n",
              "       [-0.63318849],\n",
              "       [ 0.65667445],\n",
              "       [-0.97836308],\n",
              "       [ 1.47419321],\n",
              "       [ 0.24791506],\n",
              "       [-1.04648964],\n",
              "       [ 0.54767194],\n",
              "       [ 1.47419321],\n",
              "       [ 2.4279651 ],\n",
              "       [-1.12188304],\n",
              "       [-0.40609994],\n",
              "       [-0.69223151],\n",
              "       [-0.15403166],\n",
              "       [ 0.38416819],\n",
              "       [ 0.06624423],\n",
              "       [ 0.54767194],\n",
              "       [-0.48785182],\n",
              "       [ 0.15707965],\n",
              "       [ 0.68846684],\n",
              "       [-1.5687933 ],\n",
              "       [ 0.36600111],\n",
              "       [-1.0691985 ],\n",
              "       [-0.77398339],\n",
              "       [ 1.02909966],\n",
              "       [ 0.38416819],\n",
              "       [-1.47568699],\n",
              "       [ 1.31523123],\n",
              "       [ 0.13437079],\n",
              "       [-0.79215047],\n",
              "       [ 1.55594508],\n",
              "       [-0.66043912],\n",
              "       [ 0.30604973],\n",
              "       [ 0.29333277],\n",
              "       [ 0.15707965],\n",
              "       [ 0.65667445],\n",
              "       [-0.86936058],\n",
              "       [-0.25167973],\n",
              "       [-0.99198839],\n",
              "       [-0.84210995],\n",
              "       [ 0.38416819],\n",
              "       [ 0.80655289],\n",
              "       [ 0.38416819],\n",
              "       [ 0.38416819],\n",
              "       [ 0.4295859 ]])"
            ]
          },
          "metadata": {},
          "execution_count": 21
        }
      ]
    },
    {
      "cell_type": "code",
      "source": [
        "np.save(os.path.join(drivefolder,\"x_test_normalized\"),x_test_normalized)\n",
        "np.save(os.path.join(drivefolder,\"x_train_normalized\"),x_train_normalized)"
      ],
      "metadata": {
        "id": "ZVIrT4JaR4Xf"
      },
      "execution_count": null,
      "outputs": []
    },
    {
      "cell_type": "code",
      "source": [
        "np.mean(x_test_normalized)"
      ],
      "metadata": {
        "colab": {
          "base_uri": "https://localhost:8080/"
        },
        "id": "3uCtz0fxNVXY",
        "outputId": "be1489d5-e09a-4ba0-d2ff-be9c7573fe57"
      },
      "execution_count": null,
      "outputs": [
        {
          "output_type": "execute_result",
          "data": {
            "text/plain": [
              "-0.008182479453515227"
            ]
          },
          "metadata": {},
          "execution_count": 23
        }
      ]
    },
    {
      "cell_type": "code",
      "source": [
        "np.mean(x_train_normalized)"
      ],
      "metadata": {
        "colab": {
          "base_uri": "https://localhost:8080/"
        },
        "id": "oSGB4ZhwSXqg",
        "outputId": "17302c52-fe3c-43e1-a93e-e7e8c5df2a76"
      },
      "execution_count": null,
      "outputs": [
        {
          "output_type": "execute_result",
          "data": {
            "text/plain": [
              "1.2222638803212733e-16"
            ]
          },
          "metadata": {},
          "execution_count": 24
        }
      ]
    },
    {
      "cell_type": "code",
      "source": [
        "np.std(x_test_normalized)"
      ],
      "metadata": {
        "colab": {
          "base_uri": "https://localhost:8080/"
        },
        "id": "tRWkZ0RJNVaA",
        "outputId": "81899983-63ee-4f68-dc8e-ff77fec20835"
      },
      "execution_count": null,
      "outputs": [
        {
          "output_type": "execute_result",
          "data": {
            "text/plain": [
              "0.9210591725069316"
            ]
          },
          "metadata": {},
          "execution_count": 25
        }
      ]
    },
    {
      "cell_type": "code",
      "source": [
        "np.std(x_train_normalized)"
      ],
      "metadata": {
        "colab": {
          "base_uri": "https://localhost:8080/"
        },
        "id": "ZOxmvsMaSaxu",
        "outputId": "42a11ad9-b361-4916-ef39-7e92b8ba50a4"
      },
      "execution_count": null,
      "outputs": [
        {
          "output_type": "execute_result",
          "data": {
            "text/plain": [
              "1.0000000000000002"
            ]
          },
          "metadata": {},
          "execution_count": 26
        }
      ]
    },
    {
      "cell_type": "markdown",
      "source": [
        "#Modelling\n",
        "##Training"
      ],
      "metadata": {
        "id": "WH8nhE4zEtxJ"
      }
    },
    {
      "cell_type": "code",
      "source": [
        "from sklearn.linear_model import LinearRegression"
      ],
      "metadata": {
        "id": "C4etYf_-EziA"
      },
      "execution_count": null,
      "outputs": []
    },
    {
      "cell_type": "code",
      "source": [
        "reg = LinearRegression()\n",
        "reg.fit(x_train_normalized, y_train)\n",
        "Score = reg.score(x_train_normalized, y_train)\n",
        "CoEfficient = reg.coef_\n",
        "Intercept = reg.intercept_"
      ],
      "metadata": {
        "id": "Szvlp2kKEzlQ"
      },
      "execution_count": null,
      "outputs": []
    },
    {
      "cell_type": "markdown",
      "source": [
        "##Testing"
      ],
      "metadata": {
        "id": "zAwxVXiDGE_-"
      }
    },
    {
      "cell_type": "code",
      "source": [
        "Predictions = reg.predict(x_test_normalized)"
      ],
      "metadata": {
        "id": "cDsyreJDGD6K"
      },
      "execution_count": null,
      "outputs": []
    },
    {
      "cell_type": "code",
      "source": [
        "np.save(os.path.join(drivefolder,\"Predictions\"),Predictions)\n"
      ],
      "metadata": {
        "id": "gG3YjbI4VEwQ"
      },
      "execution_count": null,
      "outputs": []
    },
    {
      "cell_type": "markdown",
      "source": [
        "## Evaluation and plots"
      ],
      "metadata": {
        "id": "0eAofRmeGMc_"
      }
    },
    {
      "cell_type": "code",
      "source": [
        "from sklearn.metrics import mean_absolute_error,mean_squared_error"
      ],
      "metadata": {
        "id": "dpubVnM_GNhH"
      },
      "execution_count": null,
      "outputs": []
    },
    {
      "cell_type": "code",
      "source": [
        "mae = mean_absolute_error(y_test, Predictions)\n",
        "\n",
        "#squared True returns MSE value, False returns RMSE value.\n",
        "mse = mean_squared_error(y_test, Predictions) #default=True\n",
        "rmse = mean_squared_error(y_test, Predictions,squared=False)\n",
        "print(\"MAE:\",mae)\n",
        "print(\"MSE:\",mse)\n",
        "print(\"RMSE:\",rmse)"
      ],
      "metadata": {
        "colab": {
          "base_uri": "https://localhost:8080/"
        },
        "id": "ftnYvQ2yGSEn",
        "outputId": "1e5348c5-c241-4b3b-c034-c60da6df2a3f"
      },
      "execution_count": null,
      "outputs": [
        {
          "output_type": "stream",
          "name": "stdout",
          "text": [
            "MAE: 1474748.1337969352\n",
            "MSE: 3675286604768.1855\n",
            "RMSE: 1917103.7021424235\n"
          ]
        }
      ]
    },
    {
      "cell_type": "code",
      "source": [
        "import matplotlib.pyplot as plt\n",
        "plt.scatter(x_test, y_test, color ='b')\n",
        "plt.plot(x_test, Predictions, color ='k')\n",
        "plt.show()\n"
      ],
      "metadata": {
        "colab": {
          "base_uri": "https://localhost:8080/",
          "height": 445
        },
        "id": "Qp_788XoGbat",
        "outputId": "8ff58fd6-0ad7-41d3-c2dc-945ad0fd0cae"
      },
      "execution_count": null,
      "outputs": [
        {
          "output_type": "display_data",
          "data": {
            "text/plain": [
              "<Figure size 640x480 with 1 Axes>"
            ],
            "image/png": "[encoded data removed]"
          },
          "metadata": {}
        }
      ]
    },
    {
      "cell_type": "code",
      "source": [
        "with open(os.path.join(drivefolder,\"model.pkl\"),'wb') as f:\n",
        "  pickle.dump(reg,f)"
      ],
      "metadata": {
        "id": "utz1A186ZxZ4"
      },
      "execution_count": null,
      "outputs": []
    }
  ]
}